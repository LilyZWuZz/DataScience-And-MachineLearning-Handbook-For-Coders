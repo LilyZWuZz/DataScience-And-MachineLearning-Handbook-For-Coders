{
  "nbformat": 4,
  "nbformat_minor": 0,
  "metadata": {
    "colab": {
      "name": "tianchi_17.ipynb",
      "version": "0.3.2",
      "provenance": [],
      "include_colab_link": true
    },
    "kernelspec": {
      "name": "python3",
      "display_name": "Python 3"
    }
  },
  "cells": [
    {
      "cell_type": "markdown",
      "metadata": {
        "id": "view-in-github",
        "colab_type": "text"
      },
      "source": [
        "<a href=\"https://colab.research.google.com/github/LilyZWuZz/DataScience-And-MachineLearning-Handbook-For-Coders/blob/master/tianchi_17.ipynb\" target=\"_parent\"><img src=\"https://colab.research.google.com/assets/colab-badge.svg\" alt=\"Open In Colab\"/></a>"
      ]
    },
    {
      "metadata": {
        "id": "6E6yuwL8FHqR",
        "colab_type": "code",
        "colab": {
          "resources": {
            "http://localhost:8080/nbextensions/google.colab/files.js": {
              "data": "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",
              "ok": true,
              "headers": [
                [
                  "content-type",
                  "application/javascript"
                ]
              ],
              "status": 200,
              "status_text": ""
            }
          },
          "base_uri": "https://localhost:8080/",
          "height": 188
        },
        "outputId": "23379a98-7f91-4ff6-a511-1e9ce876100e"
      },
      "cell_type": "code",
      "source": [
        "from google.colab import files\n",
        "\n",
        "uploaded = files.upload()\n",
        "\n",
        "for fn in uploaded.keys():\n",
        "  print('User uploaded file \"{name}\" with length {length} bytes'.format(\n",
        "      name=fn, length=len(uploaded[fn])))"
      ],
      "execution_count": 2,
      "outputs": [
        {
          "output_type": "display_data",
          "data": {
            "text/html": [
              "\n",
              "     <input type=\"file\" id=\"files-ace943c1-f14f-4be9-a223-a0876745b56d\" name=\"files[]\" multiple disabled />\n",
              "     <output id=\"result-ace943c1-f14f-4be9-a223-a0876745b56d\">\n",
              "      Upload widget is only available when the cell has been executed in the\n",
              "      current browser session. Please rerun this cell to enable.\n",
              "      </output>\n",
              "      <script src=\"/nbextensions/google.colab/files.js\"></script> "
            ],
            "text/plain": [
              "<IPython.core.display.HTML object>"
            ]
          },
          "metadata": {
            "tags": []
          }
        },
        {
          "output_type": "stream",
          "text": [
            "Saving fomatted.csv to fomatted.csv\n",
            "Saving jinnan_round1_testA_20181227.csv to jinnan_round1_testA_20181227.csv\n",
            "Saving jinnan_round1_train_20181227.csv to jinnan_round1_train_20181227.csv\n",
            "User uploaded file \"fomatted.csv\" with length 394316 bytes\n",
            "User uploaded file \"jinnan_round1_testA_20181227.csv\" with length 36306 bytes\n",
            "User uploaded file \"jinnan_round1_train_20181227.csv\" with length 344852 bytes\n"
          ],
          "name": "stdout"
        }
      ]
    },
    {
      "metadata": {
        "id": "VB2G14EWFvZz",
        "colab_type": "code",
        "colab": {}
      },
      "cell_type": "code",
      "source": [
        "import numpy as np \n",
        "import pandas as pd \n",
        "import lightgbm as lgb\n",
        "import xgboost as xgb\n",
        "from sklearn.linear_model import BayesianRidge\n",
        "from sklearn.model_selection import KFold, RepeatedKFold\n",
        "from sklearn.preprocessing import OneHotEncoder, LabelEncoder\n",
        "from scipy import sparse\n",
        "import warnings\n",
        "import time\n",
        "import sys\n",
        "import os\n",
        "import re\n",
        "import datetime\n",
        "import matplotlib.pyplot as plt\n",
        "import seaborn as sns\n",
        "# import plotly.offline as py\n",
        "# py.init_notebook_mode(connected=True)\n",
        "# import plotly.graph_objs as go\n",
        "# import plotly.tools as tls\n",
        "import seaborn as sbn\n",
        "from sklearn.metrics import mean_squared_error\n",
        "from sklearn.metrics import log_loss\n",
        "warnings.simplefilter(action='ignore', category=FutureWarning)\n",
        "warnings.filterwarnings(\"ignore\")\n",
        "pd.set_option('display.max_columns',None)\n",
        "pd.set_option('max_colwidth',100)"
      ],
      "execution_count": 0,
      "outputs": []
    },
    {
      "metadata": {
        "id": "ENuvhX1-GMVT",
        "colab_type": "code",
        "colab": {
          "base_uri": "https://localhost:8080/",
          "height": 629
        },
        "outputId": "bd552b86-7b91-4ffc-e42c-a7afdde91bfd"
      },
      "cell_type": "code",
      "source": [
        "train = pd.read_csv('jinnan_round1_train_20181227.csv', encoding = 'gb18030')\n",
        "test  = pd.read_csv('jinnan_round1_testA_20181227.csv', encoding = 'gb18030')\n",
        "print(train.shape)\n",
        "print(test.shape)\n",
        "print(train.head(5))"
      ],
      "execution_count": 4,
      "outputs": [
        {
          "output_type": "stream",
          "text": [
            "(1396, 44)\n",
            "(150, 43)\n",
            "          样本id   A1  A2     A3   A4        A5    A6   A7  A8        A9  A10  \\\n",
            "0  sample_1528  300 NaN  405.0  700  13:30:00  38.0  NaN NaN  15:30:00  100   \n",
            "1  sample_1698  300 NaN  405.0  700  14:00:00  29.0  NaN NaN  16:00:00  101   \n",
            "2   sample_639  300 NaN  405.0  700  14:00:00  29.0  NaN NaN  16:00:00  102   \n",
            "3   sample_483  300 NaN  405.0  700   1:30:00  38.0  NaN NaN   3:00:00  100   \n",
            "4   sample_617  300 NaN  405.0  700  22:00:00  29.0  NaN NaN   0:00:00  101   \n",
            "\n",
            "        A11  A12  A13       A14    A15       A16    A17  A18  A19  \\\n",
            "0  16:30:00  102  0.2  17:30:00  103.0  18:30:00  104.0  0.2  300   \n",
            "1  17:00:00  103  0.2  18:00:00  104.0  19:00:00  105.0  0.2  200   \n",
            "2  17:00:00  103  0.2  18:00:00  104.0  19:00:00  105.0  0.2  200   \n",
            "3   4:00:00  102  0.2   5:00:00  103.0   6:00:00  104.0  0.2  200   \n",
            "4   1:00:00  103  0.2   2:00:00  104.0   3:00:00  105.0  0.2  200   \n",
            "\n",
            "           A20   A21   A22  A23       A24 A25       A26  A27          A28  \\\n",
            "0  21:00-21:30  50.0   9.0  5.0  22:00:00  75  22:30:00   70    6:30-7:00   \n",
            "1  19:00-20:00  50.0   9.0  5.0  20:00:00  80  21:00:00   73  21:00-22:00   \n",
            "2  19:00-19:30  50.0   9.0  5.0  20:00:00  79  21:00:00   73  21:00-22:00   \n",
            "3    6:30-7:00  50.0  10.0  5.0   7:30:00  70   8:00:00   78  13:30-14:30   \n",
            "4    3:00-4:00  50.0   9.0  5.0   4:00:00  80   5:00:00   73    5:00-6:00   \n",
            "\n",
            "      B1   B2   B3           B4        B5  B6        B7    B8           B9  \\\n",
            "0  350.0  3.5  3.5    7:00-8:00   8:00:00  65  11:30:00  45.0  11:30-13:00   \n",
            "1  320.0  3.5  3.5  22:00-23:00  23:00:00  80   6:00:00  45.0    6:00-7:30   \n",
            "2  320.0  3.5  3.5  22:00-23:00  23:00:00  80   1:00:00  45.0    1:00-2:30   \n",
            "3  290.0  3.5  3.5  14:30-15:30  15:30:00  65  18:00:00  45.0  19:00-20:30   \n",
            "4  320.0  3.5  3.5    6:00-7:00   7:00:00  80   9:00:00  45.0   9:00-10:30   \n",
            "\n",
            "           B10          B11     B12   B13  B14     收率  \n",
            "0  14:00-15:30          NaN   800.0  0.15  400  0.879  \n",
            "1    7:30-9:00   9:00-10:00  1200.0  0.15  400  0.902  \n",
            "2    2:30-4:00    4:00-5:00  1200.0  0.15  400  0.936  \n",
            "3  21:30-23:00          NaN   800.0  0.15  400  0.902  \n",
            "4  10:30-12:00  12:00-13:00  1200.0  0.15  420  0.983  \n"
          ],
          "name": "stdout"
        }
      ]
    },
    {
      "metadata": {
        "id": "A8sGOwTiGPId",
        "colab_type": "code",
        "colab": {}
      },
      "cell_type": "code",
      "source": [
        "#处理缺失数据\n",
        "# 删除类别唯一数据\n",
        "for df in [train, test]:\n",
        "    df.drop(['B3', 'B13', 'A13', 'A18', 'A23'], axis=1, inplace=True)\n",
        "\n",
        "    "
      ],
      "execution_count": 0,
      "outputs": []
    },
    {
      "metadata": {
        "id": "vBMqTErNGSiY",
        "colab_type": "code",
        "colab": {}
      },
      "cell_type": "code",
      "source": [
        "#删除类别基本不变的值\n",
        "good_cols = list(train.columns)\n",
        "# for col in train.columns:\n",
        "#     rate = train[col].value_counts(normalize=True, dropna=False).values[0]\n",
        "#     if rate > 0.9:\n",
        "#         good_cols.remove(col)\n",
        "#         print(col,rate)\n",
        "\n",
        "# 删除异常值\n",
        "train = train[train['收率']>0.87].reset_index(drop=True)"
      ],
      "execution_count": 0,
      "outputs": []
    },
    {
      "metadata": {
        "id": "Ixy09qbpGUgC",
        "colab_type": "code",
        "colab": {
          "base_uri": "https://localhost:8080/",
          "height": 1190
        },
        "outputId": "8b04260d-277c-4161-a605-a55e0766c3dd"
      },
      "cell_type": "code",
      "source": [
        "train_Y = train[\"收率\"]\n",
        "good_cols.remove('收率')\n",
        "train_X = train[good_cols]\n",
        "test_X = test[good_cols]\n",
        "\n",
        "print(test_X.shape,train_X.shape,train_Y.shape)\n",
        "print(train_X.head())\n",
        "print(test_X.head())"
      ],
      "execution_count": 7,
      "outputs": [
        {
          "output_type": "stream",
          "text": [
            "(150, 38) (1381, 38) (1381,)\n",
            "          样本id   A1  A2     A3   A4        A5    A6   A7  A8        A9  A10  \\\n",
            "0  sample_1528  300 NaN  405.0  700  13:30:00  38.0  NaN NaN  15:30:00  100   \n",
            "1  sample_1698  300 NaN  405.0  700  14:00:00  29.0  NaN NaN  16:00:00  101   \n",
            "2   sample_639  300 NaN  405.0  700  14:00:00  29.0  NaN NaN  16:00:00  102   \n",
            "3   sample_483  300 NaN  405.0  700   1:30:00  38.0  NaN NaN   3:00:00  100   \n",
            "4   sample_617  300 NaN  405.0  700  22:00:00  29.0  NaN NaN   0:00:00  101   \n",
            "\n",
            "        A11  A12       A14    A15       A16    A17  A19          A20   A21  \\\n",
            "0  16:30:00  102  17:30:00  103.0  18:30:00  104.0  300  21:00-21:30  50.0   \n",
            "1  17:00:00  103  18:00:00  104.0  19:00:00  105.0  200  19:00-20:00  50.0   \n",
            "2  17:00:00  103  18:00:00  104.0  19:00:00  105.0  200  19:00-19:30  50.0   \n",
            "3   4:00:00  102   5:00:00  103.0   6:00:00  104.0  200    6:30-7:00  50.0   \n",
            "4   1:00:00  103   2:00:00  104.0   3:00:00  105.0  200    3:00-4:00  50.0   \n",
            "\n",
            "    A22       A24 A25       A26  A27          A28     B1   B2           B4  \\\n",
            "0   9.0  22:00:00  75  22:30:00   70    6:30-7:00  350.0  3.5    7:00-8:00   \n",
            "1   9.0  20:00:00  80  21:00:00   73  21:00-22:00  320.0  3.5  22:00-23:00   \n",
            "2   9.0  20:00:00  79  21:00:00   73  21:00-22:00  320.0  3.5  22:00-23:00   \n",
            "3  10.0   7:30:00  70   8:00:00   78  13:30-14:30  290.0  3.5  14:30-15:30   \n",
            "4   9.0   4:00:00  80   5:00:00   73    5:00-6:00  320.0  3.5    6:00-7:00   \n",
            "\n",
            "         B5  B6        B7    B8           B9          B10          B11  \\\n",
            "0   8:00:00  65  11:30:00  45.0  11:30-13:00  14:00-15:30          NaN   \n",
            "1  23:00:00  80   6:00:00  45.0    6:00-7:30    7:30-9:00   9:00-10:00   \n",
            "2  23:00:00  80   1:00:00  45.0    1:00-2:30    2:30-4:00    4:00-5:00   \n",
            "3  15:30:00  65  18:00:00  45.0  19:00-20:30  21:30-23:00          NaN   \n",
            "4   7:00:00  80   9:00:00  45.0   9:00-10:30  10:30-12:00  12:00-13:00   \n",
            "\n",
            "      B12  B14  \n",
            "0   800.0  400  \n",
            "1  1200.0  400  \n",
            "2  1200.0  400  \n",
            "3   800.0  400  \n",
            "4  1200.0  420  \n",
            "          样本id   A1  A2     A3   A4        A5  A6        A7    A8        A9  \\\n",
            "0  sample_1656  300 NaN  405.0  700   6:00:00  29       NaN   NaN   8:00:00   \n",
            "1  sample_1548  300 NaN  405.0  700  12:30:00  39  12:50:00  80.0  14:20:00   \n",
            "2   sample_769  300 NaN  405.0  700   6:00:00  80       NaN   NaN   8:00:00   \n",
            "3  sample_1881  300 NaN  405.0  700  22:00:00  29       NaN   NaN   0:00:00   \n",
            "4  sample_1807  300 NaN  405.0  700  22:00:00  30       NaN   NaN   0:00:00   \n",
            "\n",
            "   A10       A11    A12       A14    A15       A16    A17  A19          A20  \\\n",
            "0  101   9:00:00  103.0  10:00:00  105.0  11:00:00  106.0  200  11:00-12:00   \n",
            "1  100  15:20:00  102.0  16:20:00  103.0  17:20:00  102.0  300  20:00-20:30   \n",
            "2  102   9:00:00  104.0  10:00:00  104.0  11:00:00  105.0  200  11:00-12:00   \n",
            "3  102   1:00:00  103.0   2:00:00  104.0   3:00:00  105.0  200    3:00-4:00   \n",
            "4  101   1:00:00  104.0   2:00:00  106.0   3:00:00  107.0  200    3:00-4:00   \n",
            "\n",
            "   A21  A22       A24   A25       A26   A27          A28     B1   B2  \\\n",
            "0   50    9  12:00:00  80.0  13:00:00  73.0  13:00-14:00  320.0  3.5   \n",
            "1   50    9  21:00:00  76.0  21:30:00  75.0    6:00-6:30  350.0  3.5   \n",
            "2   50    9  12:00:00  80.0  13:00:00  73.0  13:00-14:00  320.0  3.5   \n",
            "3   50    9   4:00:00  78.0   5:00:00  73.0    5:00-6:00  320.0  3.5   \n",
            "4   50    9   4:00:00  79.0   5:00:00  72.0    5:00-6:00  320.0  3.5   \n",
            "\n",
            "            B4        B5  B6        B7  B8           B9          B10  \\\n",
            "0  14:00-15:00  15:00:00  79  17:00:00  45  17:00-18:30  18:30-20:00   \n",
            "1    6:30-7:50   7:50:00  65  10:00:00  45  12:00-13:00  14:00-15:30   \n",
            "2  14:00-15:00  15:00:00  80  17:00:00  45  17:00-20:00          NaN   \n",
            "3    6:00-7:00   7:00:00  80   9:00:00  45   9:00-10:30  10:30-12:00   \n",
            "4    6:00-7:00   7:00:00  79   9:00:00  45   9:00-10:30  10:30-12:00   \n",
            "\n",
            "           B11   B12  B14  \n",
            "0  20:00-21:00  1200  400  \n",
            "1          NaN   800  385  \n",
            "2          NaN  1200  440  \n",
            "3  12:00-13:00  1200  400  \n",
            "4  12:00-13:00  1200  400  \n"
          ],
          "name": "stdout"
        }
      ]
    },
    {
      "metadata": {
        "id": "YqBpKNZWGWuB",
        "colab_type": "code",
        "colab": {
          "base_uri": "https://localhost:8080/",
          "height": 34
        },
        "outputId": "621b1130-d36a-4c96-ec90-11ad1d457bd9"
      },
      "cell_type": "code",
      "source": [
        "data = pd.read_csv('fomatted.csv')\n",
        "X_train = data.iloc[:train_X.shape[0],:]\n",
        "X_test  = data.iloc[train_X.shape[0]:,:]\n",
        "print(data.shape,X_train.shape,X_test.shape)\n",
        "X_train = X_train.values\n",
        "y_train = train_Y.values\n",
        "X_test = X_test.values"
      ],
      "execution_count": 8,
      "outputs": [
        {
          "output_type": "stream",
          "text": [
            "(1531, 52) (1381, 52) (150, 52)\n"
          ],
          "name": "stdout"
        }
      ]
    },
    {
      "metadata": {
        "id": "oBa0L08WG_Kb",
        "colab_type": "code",
        "colab": {}
      },
      "cell_type": "code",
      "source": [
        "folds = KFold(n_splits=7, shuffle=True, random_state=2018)"
      ],
      "execution_count": 0,
      "outputs": []
    },
    {
      "metadata": {
        "id": "PlSGxEytHBV3",
        "colab_type": "code",
        "colab": {
          "base_uri": "https://localhost:8080/",
          "height": 2074
        },
        "outputId": "57f2c8c8-2bf3-450e-ef7b-e27b609bf512"
      },
      "cell_type": "code",
      "source": [
        "##### xgb 'eta': 0.005, 'max_depth': 10, 'subsample': 0.8, 'colsample_bytree': 0.8, \n",
        "xgb_params ={'eta': 0.005, 'max_depth': 10, 'n_estimators':5000,\n",
        "              'subsample': 0.8, 'min_child_weight':1,\n",
        "              'colsample_bytree': 0.8, 'colsample_bylevel': 0.9,\n",
        "              'reg_alpha': 0, 'reg_lambda':0.65,\n",
        "              'objective': 'reg:linear', 'eval_metric': 'rmse', 'silent': True, 'nthread': -1}\n",
        "\n",
        "\n",
        "oof_xgb = np.zeros(len(X_train))\n",
        "#predictions_xgb = np.zeros(len(X_test))\n",
        "best_xgb = np.zeros((folds.n_splits,len(X_test)))\n",
        "i=0\n",
        "for fold_, (trn_idx, val_idx) in enumerate(folds.split(X_train, y_train)):\n",
        "    print(\"fold n°{}\".format(fold_+1))\n",
        "    trn_data = xgb.DMatrix(X_train[trn_idx], y_train[trn_idx])\n",
        "    val_data = xgb.DMatrix(X_train[val_idx], y_train[val_idx])\n",
        "\n",
        "    watchlist = [(trn_data, 'train'), (val_data, 'valid_data')]\n",
        "    clf = xgb.train(dtrain=trn_data, num_boost_round=4000, evals=watchlist, early_stopping_rounds=300, verbose_eval=200, params=xgb_params)\n",
        "    oof_xgb[val_idx] = clf.predict(xgb.DMatrix(X_train[val_idx]), ntree_limit=clf.best_ntree_limit)\n",
        "    #predictions_xgb += clf.predict(xgb.DMatrix(X_test), ntree_limit=clf.best_ntree_limit) / folds.n_splits\n",
        "    best_xgb[i]=clf.predict(xgb.DMatrix(X_test), ntree_limit=clf.best_ntree_limit)\n",
        "    i+=1\n",
        "print(\"CV score: {:<8.8f}\".format(mean_squared_error(oof_xgb, y_train)))"
      ],
      "execution_count": 10,
      "outputs": [
        {
          "output_type": "stream",
          "text": [
            "fold n°1\n",
            "[0]\ttrain-rmse:0.423163\tvalid_data-rmse:0.422776\n",
            "Multiple eval metrics have been passed: 'valid_data-rmse' will be used for early stopping.\n",
            "\n",
            "Will train until valid_data-rmse hasn't improved in 300 rounds.\n",
            "[200]\ttrain-rmse:0.156582\tvalid_data-rmse:0.155811\n",
            "[400]\ttrain-rmse:0.059183\tvalid_data-rmse:0.058989\n",
            "[600]\ttrain-rmse:0.023846\tvalid_data-rmse:0.024655\n",
            "[800]\ttrain-rmse:0.011218\tvalid_data-rmse:0.013853\n",
            "[1000]\ttrain-rmse:0.006851\tvalid_data-rmse:0.011166\n",
            "[1200]\ttrain-rmse:0.005244\tvalid_data-rmse:0.010605\n",
            "[1400]\ttrain-rmse:0.004359\tvalid_data-rmse:0.010494\n",
            "[1600]\ttrain-rmse:0.00365\tvalid_data-rmse:0.01045\n",
            "[1800]\ttrain-rmse:0.00307\tvalid_data-rmse:0.010419\n",
            "[2000]\ttrain-rmse:0.002605\tvalid_data-rmse:0.010408\n",
            "[2200]\ttrain-rmse:0.002195\tvalid_data-rmse:0.010417\n",
            "Stopping. Best iteration:\n",
            "[2014]\ttrain-rmse:0.002571\tvalid_data-rmse:0.010405\n",
            "\n",
            "fold n°2\n",
            "[0]\ttrain-rmse:0.423333\tvalid_data-rmse:0.421772\n",
            "Multiple eval metrics have been passed: 'valid_data-rmse' will be used for early stopping.\n",
            "\n",
            "Will train until valid_data-rmse hasn't improved in 300 rounds.\n",
            "[200]\ttrain-rmse:0.156645\tvalid_data-rmse:0.15661\n",
            "[400]\ttrain-rmse:0.05914\tvalid_data-rmse:0.059391\n",
            "[600]\ttrain-rmse:0.02378\tvalid_data-rmse:0.025252\n",
            "[800]\ttrain-rmse:0.011126\tvalid_data-rmse:0.014733\n",
            "[1000]\ttrain-rmse:0.006826\tvalid_data-rmse:0.012299\n",
            "[1200]\ttrain-rmse:0.005194\tvalid_data-rmse:0.011853\n",
            "[1400]\ttrain-rmse:0.004227\tvalid_data-rmse:0.011777\n",
            "[1600]\ttrain-rmse:0.003493\tvalid_data-rmse:0.011771\n",
            "[1800]\ttrain-rmse:0.00288\tvalid_data-rmse:0.011791\n",
            "Stopping. Best iteration:\n",
            "[1549]\ttrain-rmse:0.003665\tvalid_data-rmse:0.011765\n",
            "\n",
            "fold n°3\n",
            "[0]\ttrain-rmse:0.423614\tvalid_data-rmse:0.42003\n",
            "Multiple eval metrics have been passed: 'valid_data-rmse' will be used for early stopping.\n",
            "\n",
            "Will train until valid_data-rmse hasn't improved in 300 rounds.\n",
            "[200]\ttrain-rmse:0.156779\tvalid_data-rmse:0.154803\n",
            "[400]\ttrain-rmse:0.059273\tvalid_data-rmse:0.05796\n",
            "[600]\ttrain-rmse:0.023875\tvalid_data-rmse:0.023639\n",
            "[800]\ttrain-rmse:0.011207\tvalid_data-rmse:0.013332\n",
            "[1000]\ttrain-rmse:0.00679\tvalid_data-rmse:0.011191\n",
            "[1200]\ttrain-rmse:0.005115\tvalid_data-rmse:0.010936\n",
            "[1400]\ttrain-rmse:0.004198\tvalid_data-rmse:0.01096\n",
            "Stopping. Best iteration:\n",
            "[1193]\ttrain-rmse:0.00515\tvalid_data-rmse:0.010936\n",
            "\n",
            "fold n°4\n",
            "[0]\ttrain-rmse:0.422385\tvalid_data-rmse:0.427441\n",
            "Multiple eval metrics have been passed: 'valid_data-rmse' will be used for early stopping.\n",
            "\n",
            "Will train until valid_data-rmse hasn't improved in 300 rounds.\n",
            "[200]\ttrain-rmse:0.156253\tvalid_data-rmse:0.160234\n",
            "[400]\ttrain-rmse:0.059047\tvalid_data-rmse:0.061716\n",
            "[600]\ttrain-rmse:0.023741\tvalid_data-rmse:0.025849\n",
            "[800]\ttrain-rmse:0.011121\tvalid_data-rmse:0.014507\n",
            "[1000]\ttrain-rmse:0.006809\tvalid_data-rmse:0.011897\n",
            "[1200]\ttrain-rmse:0.005153\tvalid_data-rmse:0.011453\n",
            "[1400]\ttrain-rmse:0.004185\tvalid_data-rmse:0.011405\n",
            "[1600]\ttrain-rmse:0.003501\tvalid_data-rmse:0.011409\n",
            "Stopping. Best iteration:\n",
            "[1393]\ttrain-rmse:0.004213\tvalid_data-rmse:0.011403\n",
            "\n",
            "fold n°5\n",
            "[0]\ttrain-rmse:0.423366\tvalid_data-rmse:0.421548\n",
            "Multiple eval metrics have been passed: 'valid_data-rmse' will be used for early stopping.\n",
            "\n",
            "Will train until valid_data-rmse hasn't improved in 300 rounds.\n",
            "[200]\ttrain-rmse:0.15664\tvalid_data-rmse:0.154456\n",
            "[400]\ttrain-rmse:0.059155\tvalid_data-rmse:0.057661\n",
            "[600]\ttrain-rmse:0.023777\tvalid_data-rmse:0.02414\n",
            "[800]\ttrain-rmse:0.011138\tvalid_data-rmse:0.014429\n",
            "[1000]\ttrain-rmse:0.006795\tvalid_data-rmse:0.01245\n",
            "[1200]\ttrain-rmse:0.005116\tvalid_data-rmse:0.01215\n",
            "[1400]\ttrain-rmse:0.004184\tvalid_data-rmse:0.01213\n",
            "[1600]\ttrain-rmse:0.003485\tvalid_data-rmse:0.012146\n",
            "Stopping. Best iteration:\n",
            "[1381]\ttrain-rmse:0.004265\tvalid_data-rmse:0.012125\n",
            "\n",
            "fold n°6\n",
            "[0]\ttrain-rmse:0.422622\tvalid_data-rmse:0.426023\n",
            "Multiple eval metrics have been passed: 'valid_data-rmse' will be used for early stopping.\n",
            "\n",
            "Will train until valid_data-rmse hasn't improved in 300 rounds.\n",
            "[200]\ttrain-rmse:0.15637\tvalid_data-rmse:0.158648\n",
            "[400]\ttrain-rmse:0.059132\tvalid_data-rmse:0.060856\n",
            "[600]\ttrain-rmse:0.023845\tvalid_data-rmse:0.025362\n",
            "[800]\ttrain-rmse:0.011139\tvalid_data-rmse:0.013744\n",
            "[1000]\ttrain-rmse:0.006635\tvalid_data-rmse:0.010856\n",
            "[1200]\ttrain-rmse:0.004888\tvalid_data-rmse:0.010324\n",
            "[1400]\ttrain-rmse:0.003933\tvalid_data-rmse:0.010259\n",
            "[1600]\ttrain-rmse:0.003271\tvalid_data-rmse:0.010265\n",
            "[1800]\ttrain-rmse:0.002764\tvalid_data-rmse:0.010297\n",
            "Stopping. Best iteration:\n",
            "[1572]\ttrain-rmse:0.00335\tvalid_data-rmse:0.010253\n",
            "\n",
            "fold n°7\n",
            "[0]\ttrain-rmse:0.423272\tvalid_data-rmse:0.422125\n",
            "Multiple eval metrics have been passed: 'valid_data-rmse' will be used for early stopping.\n",
            "\n",
            "Will train until valid_data-rmse hasn't improved in 300 rounds.\n",
            "[200]\ttrain-rmse:0.156598\tvalid_data-rmse:0.155448\n",
            "[400]\ttrain-rmse:0.0592\tvalid_data-rmse:0.05865\n",
            "[600]\ttrain-rmse:0.023853\tvalid_data-rmse:0.024818\n",
            "[800]\ttrain-rmse:0.011233\tvalid_data-rmse:0.014217\n",
            "[1000]\ttrain-rmse:0.006944\tvalid_data-rmse:0.011578\n",
            "[1200]\ttrain-rmse:0.005323\tvalid_data-rmse:0.010962\n",
            "[1400]\ttrain-rmse:0.004449\tvalid_data-rmse:0.010776\n",
            "[1600]\ttrain-rmse:0.00371\tvalid_data-rmse:0.010712\n",
            "[1800]\ttrain-rmse:0.003118\tvalid_data-rmse:0.010688\n",
            "[2000]\ttrain-rmse:0.00262\tvalid_data-rmse:0.010672\n",
            "[2200]\ttrain-rmse:0.002223\tvalid_data-rmse:0.010665\n",
            "[2400]\ttrain-rmse:0.001849\tvalid_data-rmse:0.010669\n",
            "Stopping. Best iteration:\n",
            "[2153]\ttrain-rmse:0.00231\tvalid_data-rmse:0.010664\n",
            "\n",
            "CV score: 0.00012317\n"
          ],
          "name": "stdout"
        }
      ]
    },
    {
      "metadata": {
        "id": "Dxkz_YlxHFk3",
        "colab_type": "code",
        "colab": {}
      },
      "cell_type": "code",
      "source": [
        "#best is the fold6\n",
        "predictions_xgb = best_xgb[5]"
      ],
      "execution_count": 0,
      "outputs": []
    },
    {
      "metadata": {
        "id": "cW_2hHWvHnUe",
        "colab_type": "code",
        "colab": {
          "base_uri": "https://localhost:8080/",
          "height": 952
        },
        "outputId": "0fbd2e91-7d7f-42c9-dd91-b920c9386046"
      },
      "cell_type": "code",
      "source": [
        "param = {'learning_rate': 0.01,\n",
        "         'max_depth': -1,\n",
        "         'n_estimators': 3000,\n",
        "         'num_leaves': 120,\n",
        "         'min_child_samples': 30,\n",
        "         \"feature_fraction\": 0.9,\n",
        "         \"bagging_freq\": 1,\n",
        "         \"bagging_fraction\": 0.9 ,\n",
        "         \"boosting\": \"gbdt\",\n",
        "         \"bagging_seed\": 2019,\n",
        "         'objective':'regression',\n",
        "         \"metric\": 'rmse', \n",
        "         \"verbosity\": -1}\n",
        "\n",
        "oof_lgb = np.zeros(len(X_train))\n",
        "#predictions_lgb = np.zeros(len(test))\n",
        "best_lgb = np.zeros((folds.n_splits,len(test)))\n",
        "i=0\n",
        "for fold_, (trn_idx, val_idx) in enumerate(folds.split(X_train, y_train)):\n",
        "    print(\"fold n°{}\".format(fold_+1))\n",
        "    trn_data = lgb.Dataset(X_train[trn_idx], y_train[trn_idx])\n",
        "    val_data = lgb.Dataset(X_train[val_idx], y_train[val_idx])\n",
        "\n",
        "    num_round = 5000\n",
        "    clf = lgb.train(param, trn_data, num_round, valid_sets = [trn_data, val_data], verbose_eval=300, early_stopping_rounds = 200)\n",
        "    oof_lgb[val_idx] = clf.predict(X_train[val_idx], num_iteration=clf.best_iteration)\n",
        "    \n",
        "    #predictions_lgb += clf.predict(X_test, num_iteration=clf.best_iteration) / folds.n_splits\n",
        "    best_lgb[i]=clf.predict(X_test, num_iteration=clf.best_iteration)\n",
        "    i+=1\n",
        "\n",
        "print(\"CV score: {:<8.8f}\".format(mean_squared_error(oof_lgb, y_train)))"
      ],
      "execution_count": 12,
      "outputs": [
        {
          "output_type": "stream",
          "text": [
            "fold n°1\n",
            "Training until validation scores don't improve for 200 rounds.\n",
            "[300]\ttraining's rmse: 0.0105385\tvalid_1's rmse: 0.0115215\n",
            "[600]\ttraining's rmse: 0.00826866\tvalid_1's rmse: 0.0104527\n",
            "[900]\ttraining's rmse: 0.00710031\tvalid_1's rmse: 0.0101887\n",
            "[1200]\ttraining's rmse: 0.0062508\tvalid_1's rmse: 0.0101128\n",
            "[1500]\ttraining's rmse: 0.00558411\tvalid_1's rmse: 0.0101047\n",
            "[1800]\ttraining's rmse: 0.00504346\tvalid_1's rmse: 0.0100972\n",
            "Early stopping, best iteration is:\n",
            "[1707]\ttraining's rmse: 0.00519462\tvalid_1's rmse: 0.0100833\n",
            "fold n°2\n",
            "Training until validation scores don't improve for 200 rounds.\n",
            "[300]\ttraining's rmse: 0.0103353\tvalid_1's rmse: 0.0132693\n",
            "[600]\ttraining's rmse: 0.00802778\tvalid_1's rmse: 0.0122314\n",
            "[900]\ttraining's rmse: 0.00680089\tvalid_1's rmse: 0.012125\n",
            "Early stopping, best iteration is:\n",
            "[901]\ttraining's rmse: 0.00679711\tvalid_1's rmse: 0.0121243\n",
            "fold n°3\n",
            "Training until validation scores don't improve for 200 rounds.\n",
            "[300]\ttraining's rmse: 0.0103995\tvalid_1's rmse: 0.0115595\n",
            "[600]\ttraining's rmse: 0.00803842\tvalid_1's rmse: 0.0113107\n",
            "Early stopping, best iteration is:\n",
            "[469]\ttraining's rmse: 0.00877496\tvalid_1's rmse: 0.0112806\n",
            "fold n°4\n",
            "Training until validation scores don't improve for 200 rounds.\n",
            "[300]\ttraining's rmse: 0.0103285\tvalid_1's rmse: 0.0132071\n",
            "[600]\ttraining's rmse: 0.00797047\tvalid_1's rmse: 0.0122807\n",
            "[900]\ttraining's rmse: 0.00679183\tvalid_1's rmse: 0.0122084\n",
            "[1200]\ttraining's rmse: 0.00595786\tvalid_1's rmse: 0.0122181\n",
            "Early stopping, best iteration is:\n",
            "[1002]\ttraining's rmse: 0.00647884\tvalid_1's rmse: 0.012199\n",
            "fold n°5\n",
            "Training until validation scores don't improve for 200 rounds.\n",
            "[300]\ttraining's rmse: 0.0103138\tvalid_1's rmse: 0.0134336\n",
            "[600]\ttraining's rmse: 0.00799654\tvalid_1's rmse: 0.0128229\n",
            "[900]\ttraining's rmse: 0.00677579\tvalid_1's rmse: 0.0127711\n",
            "Early stopping, best iteration is:\n",
            "[822]\ttraining's rmse: 0.00704705\tvalid_1's rmse: 0.0127653\n",
            "fold n°6\n",
            "Training until validation scores don't improve for 200 rounds.\n",
            "[300]\ttraining's rmse: 0.0105317\tvalid_1's rmse: 0.0114366\n",
            "[600]\ttraining's rmse: 0.00817911\tvalid_1's rmse: 0.0106131\n",
            "Early stopping, best iteration is:\n",
            "[673]\ttraining's rmse: 0.00783475\tvalid_1's rmse: 0.0105873\n",
            "fold n°7\n",
            "Training until validation scores don't improve for 200 rounds.\n",
            "[300]\ttraining's rmse: 0.0105347\tvalid_1's rmse: 0.0121276\n",
            "[600]\ttraining's rmse: 0.00820181\tvalid_1's rmse: 0.0107435\n",
            "[900]\ttraining's rmse: 0.00702069\tvalid_1's rmse: 0.0105947\n",
            "[1200]\ttraining's rmse: 0.00616638\tvalid_1's rmse: 0.0105587\n",
            "[1500]\ttraining's rmse: 0.00550344\tvalid_1's rmse: 0.0105334\n",
            "[1800]\ttraining's rmse: 0.00496361\tvalid_1's rmse: 0.0105394\n",
            "Early stopping, best iteration is:\n",
            "[1637]\ttraining's rmse: 0.00524045\tvalid_1's rmse: 0.0105254\n",
            "CV score: 0.00013007\n"
          ],
          "name": "stdout"
        }
      ]
    },
    {
      "metadata": {
        "id": "yuohgcowH4js",
        "colab_type": "code",
        "colab": {}
      },
      "cell_type": "code",
      "source": [
        "# best is fold1\n",
        "predictions_lgb = best_lgb[0]"
      ],
      "execution_count": 0,
      "outputs": []
    },
    {
      "metadata": {
        "id": "1qYI8uk3Hn-U",
        "colab_type": "code",
        "colab": {}
      },
      "cell_type": "code",
      "source": [
        ""
      ],
      "execution_count": 0,
      "outputs": []
    },
    {
      "metadata": {
        "id": "0592IB3JHr9Q",
        "colab_type": "code",
        "colab": {
          "base_uri": "https://localhost:8080/",
          "height": 204
        },
        "outputId": "c71c7e44-904e-4b64-9f43-608993e8ba30"
      },
      "cell_type": "code",
      "source": [
        "# 将lgb和xgb的结果进行stacking\n",
        "train_stack = np.vstack([oof_lgb,oof_xgb]).transpose()\n",
        "test_stack = np.vstack([predictions_lgb, predictions_xgb]).transpose()\n",
        "\n",
        "folds_stack = RepeatedKFold(n_splits=5, n_repeats=2, random_state=4590)\n",
        "oof_stack = np.zeros(train_stack.shape[0])\n",
        "predictions = np.zeros(test_stack.shape[0])\n",
        "\n",
        "for fold_, (trn_idx, val_idx) in enumerate(folds_stack.split(train_stack,train_Y)):\n",
        "    print(\"fold {}\".format(fold_))\n",
        "    trn_data, trn_y = train_stack[trn_idx], train_Y.iloc[trn_idx].values\n",
        "    val_data, val_y = train_stack[val_idx], train_Y.iloc[val_idx].values\n",
        "    \n",
        "    clf_3 = BayesianRidge()\n",
        "    clf_3.fit(trn_data, trn_y)\n",
        "    \n",
        "    oof_stack[val_idx] = clf_3.predict(val_data)\n",
        "    predictions += clf_3.predict(test_stack) / 10\n",
        "    \n",
        "mean_squared_error(y_train, oof_stack)"
      ],
      "execution_count": 14,
      "outputs": [
        {
          "output_type": "stream",
          "text": [
            "fold 0\n",
            "fold 1\n",
            "fold 2\n",
            "fold 3\n",
            "fold 4\n",
            "fold 5\n",
            "fold 6\n",
            "fold 7\n",
            "fold 8\n",
            "fold 9\n"
          ],
          "name": "stdout"
        },
        {
          "output_type": "execute_result",
          "data": {
            "text/plain": [
              "0.00012222010120275427"
            ]
          },
          "metadata": {
            "tags": []
          },
          "execution_count": 14
        }
      ]
    },
    {
      "metadata": {
        "id": "TN1h9qtVHwmj",
        "colab_type": "code",
        "colab": {}
      },
      "cell_type": "code",
      "source": [
        "count=0\n",
        "def save_test(test,pred):\n",
        "    res=pd.DataFrame({'样本id':test['样本id'], '产率':pred})\n",
        "    res['产率'] = res['产率'].apply(lambda x:round(x, 3))\n",
        "    name = 'test_result_%d.csv' %count\n",
        "    res.to_csv(name,header=False,index=False)\n",
        "save_test(test.iloc[:test.shape[0],:],predictions)"
      ],
      "execution_count": 0,
      "outputs": []
    },
    {
      "metadata": {
        "id": "VghWWz10MWUW",
        "colab_type": "text"
      },
      "cell_type": "markdown",
      "source": [
        "# 新段落"
      ]
    },
    {
      "metadata": {
        "id": "jIVc78EXIBPO",
        "colab_type": "code",
        "colab": {}
      },
      "cell_type": "code",
      "source": [
        "from google.colab import files\n",
        "\n",
        "files.download('test_result_0.csv')"
      ],
      "execution_count": 0,
      "outputs": []
    },
    {
      "metadata": {
        "id": "hf54QVHiIZri",
        "colab_type": "code",
        "colab": {}
      },
      "cell_type": "code",
      "source": [
        ""
      ],
      "execution_count": 0,
      "outputs": []
    }
  ]
}